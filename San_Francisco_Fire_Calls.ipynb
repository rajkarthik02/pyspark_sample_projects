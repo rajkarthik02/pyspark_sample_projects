{
 "cells": [
  {
   "cell_type": "code",
   "execution_count": 1,
   "id": "9abcaae6",
   "metadata": {},
   "outputs": [],
   "source": [
    "import findspark\n",
    "findspark.init()"
   ]
  },
  {
   "cell_type": "code",
   "execution_count": 2,
   "id": "05472c56",
   "metadata": {},
   "outputs": [],
   "source": [
    "#importing the libraries\n",
    "from pyspark.sql import SparkSession\n",
    "from pyspark.sql.functions import *\n",
    "from pyspark.sql.types import *"
   ]
  },
  {
   "cell_type": "code",
   "execution_count": 3,
   "id": "25145ab2",
   "metadata": {},
   "outputs": [
    {
     "name": "stderr",
     "output_type": "stream",
     "text": [
      "Using Spark's default log4j profile: org/apache/spark/log4j-defaults.properties\n",
      "Setting default log level to \"WARN\".\n",
      "To adjust logging level use sc.setLogLevel(newLevel). For SparkR, use setLogLevel(newLevel).\n"
     ]
    }
   ],
   "source": [
    "#Initializing the SPARK SESSION\n",
    "spark=SparkSession.builder.appName('SF_FireCalls').getOrCreate()"
   ]
  },
  {
   "cell_type": "code",
   "execution_count": 4,
   "id": "39e19d22",
   "metadata": {},
   "outputs": [
    {
     "name": "stdout",
     "output_type": "stream",
     "text": [
      "-rw-r--r-- 1 karthik karthik 44530123 Jul 14 19:07 /home/karthik/sf-fire-calls.csv\r\n"
     ]
    }
   ],
   "source": [
    "%ls -ltr \"/home/karthik/sf-fire-calls.csv\""
   ]
  },
  {
   "cell_type": "code",
   "execution_count": 5,
   "id": "eddb2717",
   "metadata": {},
   "outputs": [],
   "source": [
    "filePath='/home/karthik/sf-fire-calls.csv'"
   ]
  },
  {
   "cell_type": "code",
   "execution_count": 6,
   "id": "f8aa34fb",
   "metadata": {},
   "outputs": [],
   "source": [
    "#Creating Schema\n",
    "fire_schema = StructType( [ StructField('CallNumber', IntegerType(), True),\n",
    "                     StructField('UnitID', StringType(), True),\n",
    "                     StructField('IncidentNumber', IntegerType(), True),\n",
    "                     StructField('CallType', StringType(), True),                  \n",
    "                     StructField('CallDate', StringType(), True),      \n",
    "                     StructField('WatchDate', StringType(), True),\n",
    "                     StructField('CallFinalDisposition', StringType(), True),\n",
    "                     StructField('AvailableDtTm', StringType(), True),\n",
    "                     StructField('Address', StringType(), True),       \n",
    "                     StructField('City', StringType(), True),       \n",
    "                     StructField('Zipcode', IntegerType(), True),       \n",
    "                     StructField('Battalion', StringType(), True),                 \n",
    "                     StructField('StationArea', StringType(), True),       \n",
    "                     StructField('Box', StringType(), True),       \n",
    "                     StructField('OriginalPriority', StringType(), True),       \n",
    "                     StructField('Priority', StringType(), True),       \n",
    "                     StructField('FinalPriority', IntegerType(), True),       \n",
    "                     StructField('ALSUnit', BooleanType(), True),       \n",
    "                     StructField('CallTypeGroup', StringType(), True),\n",
    "                     StructField('NumAlarms', IntegerType(), True),\n",
    "                     StructField('UnitType', StringType(), True),\n",
    "                     StructField('UnitSequenceInCallDispatch', IntegerType(), True),\n",
    "                     StructField('FirePreventionDistrict', StringType(), True),\n",
    "                     StructField('SupervisorDistrict', StringType(), True),\n",
    "                     StructField('Neighborhood', StringType(), True),\n",
    "                     StructField('Location', StringType(), True),\n",
    "                     StructField('RowID', StringType(), True),\n",
    "                     StructField('Delay', FloatType(), True) ] )"
   ]
  },
  {
   "cell_type": "code",
   "execution_count": 7,
   "id": "39c4e91a",
   "metadata": {},
   "outputs": [],
   "source": [
    "#Creating a DataFrame\n",
    "data=spark.read.format('csv').option('header','true').load(filePath,schema=fire_schema)"
   ]
  },
  {
   "cell_type": "code",
   "execution_count": 8,
   "id": "8f19b288",
   "metadata": {},
   "outputs": [
    {
     "name": "stdout",
     "output_type": "stream",
     "text": [
      "root\n",
      " |-- CallNumber: integer (nullable = true)\n",
      " |-- UnitID: string (nullable = true)\n",
      " |-- IncidentNumber: integer (nullable = true)\n",
      " |-- CallType: string (nullable = true)\n",
      " |-- CallDate: string (nullable = true)\n",
      " |-- WatchDate: string (nullable = true)\n",
      " |-- CallFinalDisposition: string (nullable = true)\n",
      " |-- AvailableDtTm: string (nullable = true)\n",
      " |-- Address: string (nullable = true)\n",
      " |-- City: string (nullable = true)\n",
      " |-- Zipcode: integer (nullable = true)\n",
      " |-- Battalion: string (nullable = true)\n",
      " |-- StationArea: string (nullable = true)\n",
      " |-- Box: string (nullable = true)\n",
      " |-- OriginalPriority: string (nullable = true)\n",
      " |-- Priority: string (nullable = true)\n",
      " |-- FinalPriority: integer (nullable = true)\n",
      " |-- ALSUnit: boolean (nullable = true)\n",
      " |-- CallTypeGroup: string (nullable = true)\n",
      " |-- NumAlarms: integer (nullable = true)\n",
      " |-- UnitType: string (nullable = true)\n",
      " |-- UnitSequenceInCallDispatch: integer (nullable = true)\n",
      " |-- FirePreventionDistrict: string (nullable = true)\n",
      " |-- SupervisorDistrict: string (nullable = true)\n",
      " |-- Neighborhood: string (nullable = true)\n",
      " |-- Location: string (nullable = true)\n",
      " |-- RowID: string (nullable = true)\n",
      " |-- Delay: float (nullable = true)\n",
      "\n"
     ]
    }
   ],
   "source": [
    "data.printSchema()"
   ]
  },
  {
   "cell_type": "code",
   "execution_count": 9,
   "id": "ae7fb575",
   "metadata": {},
   "outputs": [
    {
     "name": "stderr",
     "output_type": "stream",
     "text": [
      "                                                                                \r"
     ]
    },
    {
     "data": {
      "text/plain": [
       "175296"
      ]
     },
     "execution_count": 9,
     "metadata": {},
     "output_type": "execute_result"
    }
   ],
   "source": [
    "data.count()"
   ]
  },
  {
   "cell_type": "code",
   "execution_count": 10,
   "id": "f6c813cf",
   "metadata": {},
   "outputs": [
    {
     "name": "stderr",
     "output_type": "stream",
     "text": [
      "22/08/12 16:42:33 WARN package: Truncated the string representation of a plan since it was too large. This behavior can be adjusted by setting 'spark.sql.debug.maxToStringFields'.\n"
     ]
    },
    {
     "name": "stdout",
     "output_type": "stream",
     "text": [
      "+----------+------+--------------+----------------+----------+----------+--------------------+----------------------+---------------------------+----+-------+---------+-----------+----+----------------+--------+-------------+-------+-------------+---------+--------+--------------------------+----------------------+------------------+---------------------+-------------------------------------+-------------+---------+\n",
      "|CallNumber|UnitID|IncidentNumber|CallType        |CallDate  |WatchDate |CallFinalDisposition|AvailableDtTm         |Address                    |City|Zipcode|Battalion|StationArea|Box |OriginalPriority|Priority|FinalPriority|ALSUnit|CallTypeGroup|NumAlarms|UnitType|UnitSequenceInCallDispatch|FirePreventionDistrict|SupervisorDistrict|Neighborhood         |Location                             |RowID        |Delay    |\n",
      "+----------+------+--------------+----------------+----------+----------+--------------------+----------------------+---------------------------+----+-------+---------+-----------+----+----------------+--------+-------------+-------+-------------+---------+--------+--------------------------+----------------------+------------------+---------------------+-------------------------------------+-------------+---------+\n",
      "|20110016  |T13   |2003235       |Structure Fire  |01/11/2002|01/10/2002|Other               |01/11/2002 01:51:44 AM|2000 Block of CALIFORNIA ST|SF  |94109  |B04      |38         |3362|3               |3       |3            |false  |null         |1        |TRUCK   |2                         |4                     |5                 |Pacific Heights      |(37.7895840679362, -122.428071912459)|020110016-T13|2.95     |\n",
      "|20110022  |M17   |2003241       |Medical Incident|01/11/2002|01/10/2002|Other               |01/11/2002 03:01:18 AM|0 Block of SILVERVIEW DR   |SF  |94124  |B10      |42         |6495|3               |3       |3            |true   |null         |1        |MEDIC   |1                         |10                    |10                |Bayview Hunters Point|(37.7337623673897, -122.396113802632)|020110022-M17|4.7      |\n",
      "|20110023  |M41   |2003242       |Medical Incident|01/11/2002|01/10/2002|Other               |01/11/2002 02:39:50 AM|MARKET ST/MCALLISTER ST    |SF  |94102  |B03      |01         |1455|3               |3       |3            |true   |null         |1        |MEDIC   |2                         |3                     |6                 |Tenderloin           |(37.7811772186856, -122.411699931232)|020110023-M41|2.4333334|\n",
      "|20110032  |E11   |2003250       |Vehicle Fire    |01/11/2002|01/10/2002|Other               |01/11/2002 04:16:46 AM|APPLETON AV/MISSION ST     |SF  |94110  |B06      |32         |5626|3               |3       |3            |false  |null         |1        |ENGINE  |1                         |6                     |9                 |Bernal Heights       |(37.7388432849018, -122.423948785199)|020110032-E11|1.5      |\n",
      "|20110043  |B04   |2003259       |Alarms          |01/11/2002|01/10/2002|Other               |01/11/2002 06:01:58 AM|1400 Block of SUTTER ST    |SF  |94109  |B04      |03         |3223|3               |3       |3            |false  |null         |1        |CHIEF   |2                         |4                     |2                 |Western Addition     |(37.7872890372638, -122.424236212664)|020110043-B04|3.4833333|\n",
      "+----------+------+--------------+----------------+----------+----------+--------------------+----------------------+---------------------------+----+-------+---------+-----------+----+----------------+--------+-------------+-------+-------------+---------+--------+--------------------------+----------------------+------------------+---------------------+-------------------------------------+-------------+---------+\n",
      "only showing top 5 rows\n",
      "\n"
     ]
    }
   ],
   "source": [
    "data.show(5,False)"
   ]
  },
  {
   "cell_type": "markdown",
   "id": "a575d41c",
   "metadata": {},
   "source": [
    "================================================================================"
   ]
  },
  {
   "cell_type": "markdown",
   "id": "1db8464b",
   "metadata": {},
   "source": [
    "#### Q-1) Filter out \"Medical Incident\" call types and store the remaining data in a new dataframe"
   ]
  },
  {
   "cell_type": "code",
   "execution_count": 11,
   "id": "cbd26c7f",
   "metadata": {},
   "outputs": [],
   "source": [
    "new_fire_data=data.select('IncidentNumber','AvailableDtTm','CallType').where(col('CallType')!='Medical Incident')"
   ]
  },
  {
   "cell_type": "code",
   "execution_count": 12,
   "id": "dda6c10f",
   "metadata": {},
   "outputs": [
    {
     "name": "stdout",
     "output_type": "stream",
     "text": [
      "+--------------+----------------------+--------------+\n",
      "|IncidentNumber|AvailableDtTm         |CallType      |\n",
      "+--------------+----------------------+--------------+\n",
      "|2003235       |01/11/2002 01:51:44 AM|Structure Fire|\n",
      "|2003250       |01/11/2002 04:16:46 AM|Vehicle Fire  |\n",
      "|2003259       |01/11/2002 06:01:58 AM|Alarms        |\n",
      "|2003279       |01/11/2002 08:03:26 AM|Structure Fire|\n",
      "|2003301       |01/11/2002 09:46:44 AM|Alarms        |\n",
      "+--------------+----------------------+--------------+\n",
      "only showing top 5 rows\n",
      "\n"
     ]
    }
   ],
   "source": [
    "new_fire_data.show(5,False)"
   ]
  },
  {
   "cell_type": "code",
   "execution_count": 13,
   "id": "636a7361",
   "metadata": {},
   "outputs": [
    {
     "data": {
      "text/plain": [
       "61502"
      ]
     },
     "execution_count": 13,
     "metadata": {},
     "output_type": "execute_result"
    }
   ],
   "source": [
    "new_fire_data.count()"
   ]
  },
  {
   "cell_type": "markdown",
   "id": "dbcf8f90",
   "metadata": {},
   "source": [
    "#### Q-2) How many distinct types of calls were made to the Fire Department?\n",
    "\n",
    "#### To be sure, let's not count \"null\" strings in that column."
   ]
  },
  {
   "cell_type": "code",
   "execution_count": 14,
   "id": "fa12aaa0",
   "metadata": {},
   "outputs": [
    {
     "name": "stdout",
     "output_type": "stream",
     "text": [
      "+-----------------------------+\n",
      "|CallType                     |\n",
      "+-----------------------------+\n",
      "|Elevator / Escalator Rescue  |\n",
      "|Marine Fire                  |\n",
      "|Aircraft Emergency           |\n",
      "|Administrative               |\n",
      "|Alarms                       |\n",
      "|Odor (Strange / Unknown)     |\n",
      "|Citizen Assist / Service Call|\n",
      "|HazMat                       |\n",
      "|Watercraft in Distress       |\n",
      "|Explosion                    |\n",
      "+-----------------------------+\n",
      "only showing top 10 rows\n",
      "\n"
     ]
    }
   ],
   "source": [
    "data.select('CallType').where(col('CallType').isNotNull()).distinct().show(10,False)"
   ]
  },
  {
   "cell_type": "code",
   "execution_count": 15,
   "id": "d9b23cde",
   "metadata": {},
   "outputs": [
    {
     "data": {
      "text/plain": [
       "30"
      ]
     },
     "execution_count": 15,
     "metadata": {},
     "output_type": "execute_result"
    }
   ],
   "source": [
    "data.select('CallType').where(col('CallType').isNotNull()).distinct().count()"
   ]
  },
  {
   "cell_type": "markdown",
   "id": "b5f59aa9",
   "metadata": {},
   "source": [
    "#### Q-3) Find out all response or delayed times greater than 5 mins?\n",
    "\n",
    "#### Rename the column Delay - > ReponseDelayedinMins Returns a new DataFrame Find out all calls where the response time to the fire site was delayed for more than 5 mins"
   ]
  },
  {
   "cell_type": "code",
   "execution_count": 21,
   "id": "bf07d39f",
   "metadata": {},
   "outputs": [],
   "source": [
    "new_data=data.withColumnRenamed('Delay','ResponseDelayedinMins')"
   ]
  },
  {
   "cell_type": "code",
   "execution_count": 22,
   "id": "f248fbf8",
   "metadata": {},
   "outputs": [
    {
     "name": "stdout",
     "output_type": "stream",
     "text": [
      "+---------------------+\n",
      "|ResponseDelayedinMins|\n",
      "+---------------------+\n",
      "|                 2.95|\n",
      "|                  4.7|\n",
      "|            2.4333334|\n",
      "|                  1.5|\n",
      "|            3.4833333|\n",
      "+---------------------+\n",
      "only showing top 5 rows\n",
      "\n"
     ]
    }
   ],
   "source": [
    "new_data.select('ResponseDelayedinMins').show(5)"
   ]
  },
  {
   "cell_type": "code",
   "execution_count": 23,
   "id": "0ae34e6f",
   "metadata": {},
   "outputs": [
    {
     "data": {
      "text/plain": [
       "27508"
      ]
     },
     "execution_count": 23,
     "metadata": {},
     "output_type": "execute_result"
    }
   ],
   "source": [
    "new_data.select('IncidentNumber','AvailableDtTm','CallType','ResponseDelayedinMins').where(col('ResponseDelayedinMins') > 5).count()"
   ]
  },
  {
   "cell_type": "code",
   "execution_count": 24,
   "id": "f676fd89",
   "metadata": {},
   "outputs": [
    {
     "name": "stdout",
     "output_type": "stream",
     "text": [
      "+--------------+----------------------+-----------------------------+---------------------+\n",
      "|IncidentNumber|AvailableDtTm         |CallType                     |ResponseDelayedinMins|\n",
      "+--------------+----------------------+-----------------------------+---------------------+\n",
      "|2003409       |01/11/2002 04:34:23 PM|Medical Incident             |5.35                 |\n",
      "|2003642       |01/12/2002 01:23:04 PM|Medical Incident             |6.25                 |\n",
      "|2003818       |01/13/2002 01:51:15 AM|Medical Incident             |5.2                  |\n",
      "|2004152       |01/14/2002 08:16:54 AM|Citizen Assist / Service Call|5.6                  |\n",
      "|2004216       |01/14/2002 12:27:03 PM|Medical Incident             |7.25                 |\n",
      "|2004408       |01/15/2002 06:53:38 AM|Medical Incident             |11.916667            |\n",
      "|2004521       |01/15/2002 03:18:26 PM|Medical Incident             |5.116667             |\n",
      "|2004528       |01/15/2002 03:55:41 PM|Medical Incident             |8.633333             |\n",
      "|2004528       |01/15/2002 07:49:05 PM|Medical Incident             |95.28333             |\n",
      "|2004610       |01/15/2002 08:17:15 PM|Medical Incident             |5.45                 |\n",
      "+--------------+----------------------+-----------------------------+---------------------+\n",
      "only showing top 10 rows\n",
      "\n"
     ]
    }
   ],
   "source": [
    "new_data.select('IncidentNumber','AvailableDtTm','CallType','ResponseDelayedinMins').where(col('ResponseDelayedinMins') > 5).show(10,False)"
   ]
  },
  {
   "cell_type": "markdown",
   "id": "caa9f8d7",
   "metadata": {},
   "source": [
    "Let's do some ETL:\n",
    "\n",
    "- Transform the string dates to Spark Timestamp data type so we can make some time-based queries later\n",
    "- Returns a transformed query\n",
    "- Cache the new DataFrame"
   ]
  },
  {
   "cell_type": "code",
   "execution_count": 25,
   "id": "4c671e1b",
   "metadata": {},
   "outputs": [
    {
     "name": "stdout",
     "output_type": "stream",
     "text": [
      "root\n",
      " |-- CallNumber: integer (nullable = true)\n",
      " |-- UnitID: string (nullable = true)\n",
      " |-- IncidentNumber: integer (nullable = true)\n",
      " |-- CallType: string (nullable = true)\n",
      " |-- CallDate: string (nullable = true)\n",
      " |-- WatchDate: string (nullable = true)\n",
      " |-- CallFinalDisposition: string (nullable = true)\n",
      " |-- AvailableDtTm: string (nullable = true)\n",
      " |-- Address: string (nullable = true)\n",
      " |-- City: string (nullable = true)\n",
      " |-- Zipcode: integer (nullable = true)\n",
      " |-- Battalion: string (nullable = true)\n",
      " |-- StationArea: string (nullable = true)\n",
      " |-- Box: string (nullable = true)\n",
      " |-- OriginalPriority: string (nullable = true)\n",
      " |-- Priority: string (nullable = true)\n",
      " |-- FinalPriority: integer (nullable = true)\n",
      " |-- ALSUnit: boolean (nullable = true)\n",
      " |-- CallTypeGroup: string (nullable = true)\n",
      " |-- NumAlarms: integer (nullable = true)\n",
      " |-- UnitType: string (nullable = true)\n",
      " |-- UnitSequenceInCallDispatch: integer (nullable = true)\n",
      " |-- FirePreventionDistrict: string (nullable = true)\n",
      " |-- SupervisorDistrict: string (nullable = true)\n",
      " |-- Neighborhood: string (nullable = true)\n",
      " |-- Location: string (nullable = true)\n",
      " |-- RowID: string (nullable = true)\n",
      " |-- Delay: float (nullable = true)\n",
      "\n"
     ]
    }
   ],
   "source": [
    "data.printSchema()"
   ]
  },
  {
   "cell_type": "code",
   "execution_count": 27,
   "id": "68b7e5d8",
   "metadata": {},
   "outputs": [],
   "source": [
    "fire_df_ts=(new_data.withColumn('IncidentDate',to_date(col('CallDate'),'MM/dd/yyyy')).drop('CallDate')\n",
    "            .withColumn('onWatchDate',to_date(col('WatchDate'),'MM/dd/yyyy')).drop('WatchDate')\n",
    "            .withColumn('AvailableDtTs',to_date(col('AvailableDtTm'),'MM/dd/yyyy hh:mm:ss a')).drop('AvailableDtTm') \n",
    "           )"
   ]
  },
  {
   "cell_type": "code",
   "execution_count": 28,
   "id": "6ce63a75",
   "metadata": {},
   "outputs": [
    {
     "name": "stdout",
     "output_type": "stream",
     "text": [
      "root\n",
      " |-- CallNumber: integer (nullable = true)\n",
      " |-- UnitID: string (nullable = true)\n",
      " |-- IncidentNumber: integer (nullable = true)\n",
      " |-- CallType: string (nullable = true)\n",
      " |-- CallFinalDisposition: string (nullable = true)\n",
      " |-- Address: string (nullable = true)\n",
      " |-- City: string (nullable = true)\n",
      " |-- Zipcode: integer (nullable = true)\n",
      " |-- Battalion: string (nullable = true)\n",
      " |-- StationArea: string (nullable = true)\n",
      " |-- Box: string (nullable = true)\n",
      " |-- OriginalPriority: string (nullable = true)\n",
      " |-- Priority: string (nullable = true)\n",
      " |-- FinalPriority: integer (nullable = true)\n",
      " |-- ALSUnit: boolean (nullable = true)\n",
      " |-- CallTypeGroup: string (nullable = true)\n",
      " |-- NumAlarms: integer (nullable = true)\n",
      " |-- UnitType: string (nullable = true)\n",
      " |-- UnitSequenceInCallDispatch: integer (nullable = true)\n",
      " |-- FirePreventionDistrict: string (nullable = true)\n",
      " |-- SupervisorDistrict: string (nullable = true)\n",
      " |-- Neighborhood: string (nullable = true)\n",
      " |-- Location: string (nullable = true)\n",
      " |-- RowID: string (nullable = true)\n",
      " |-- ResponseDelayedinMins: float (nullable = true)\n",
      " |-- IncidentDate: date (nullable = true)\n",
      " |-- onWatchDate: date (nullable = true)\n",
      " |-- AvailableDtTs: date (nullable = true)\n",
      "\n"
     ]
    }
   ],
   "source": [
    "fire_df_ts.printSchema()"
   ]
  },
  {
   "cell_type": "code",
   "execution_count": 30,
   "id": "bbc9ce6d",
   "metadata": {},
   "outputs": [
    {
     "name": "stdout",
     "output_type": "stream",
     "text": [
      "+--------------+------------+-----------+-------------+\n",
      "|IncidentNumber|IncidentDate|onWatchDate|AvailableDtTs|\n",
      "+--------------+------------+-----------+-------------+\n",
      "|       2003235|  2002-01-11| 2002-01-10|   2002-01-11|\n",
      "|       2003241|  2002-01-11| 2002-01-10|   2002-01-11|\n",
      "|       2003242|  2002-01-11| 2002-01-10|   2002-01-11|\n",
      "|       2003250|  2002-01-11| 2002-01-10|   2002-01-11|\n",
      "|       2003259|  2002-01-11| 2002-01-10|   2002-01-11|\n",
      "+--------------+------------+-----------+-------------+\n",
      "only showing top 5 rows\n",
      "\n"
     ]
    }
   ],
   "source": [
    "fire_df_ts.select('IncidentNumber','IncidentDate','onWatchDate','AvailableDtTs').show(5)"
   ]
  },
  {
   "cell_type": "code",
   "execution_count": 31,
   "id": "8c61897e",
   "metadata": {},
   "outputs": [
    {
     "data": {
      "text/plain": [
       "DataFrame[CallNumber: int, UnitID: string, IncidentNumber: int, CallType: string, CallFinalDisposition: string, Address: string, City: string, Zipcode: int, Battalion: string, StationArea: string, Box: string, OriginalPriority: string, Priority: string, FinalPriority: int, ALSUnit: boolean, CallTypeGroup: string, NumAlarms: int, UnitType: string, UnitSequenceInCallDispatch: int, FirePreventionDistrict: string, SupervisorDistrict: string, Neighborhood: string, Location: string, RowID: string, ResponseDelayedinMins: float, IncidentDate: date, onWatchDate: date, AvailableDtTs: date]"
      ]
     },
     "execution_count": 31,
     "metadata": {},
     "output_type": "execute_result"
    }
   ],
   "source": [
    "fire_df_ts.cache()"
   ]
  },
  {
   "cell_type": "code",
   "execution_count": 34,
   "id": "e1b935bd",
   "metadata": {},
   "outputs": [
    {
     "data": {
      "text/plain": [
       "['CallNumber',\n",
       " 'UnitID',\n",
       " 'IncidentNumber',\n",
       " 'CallType',\n",
       " 'CallFinalDisposition',\n",
       " 'Address',\n",
       " 'City',\n",
       " 'Zipcode',\n",
       " 'Battalion',\n",
       " 'StationArea',\n",
       " 'Box',\n",
       " 'OriginalPriority',\n",
       " 'Priority',\n",
       " 'FinalPriority',\n",
       " 'ALSUnit',\n",
       " 'CallTypeGroup',\n",
       " 'NumAlarms',\n",
       " 'UnitType',\n",
       " 'UnitSequenceInCallDispatch',\n",
       " 'FirePreventionDistrict',\n",
       " 'SupervisorDistrict',\n",
       " 'Neighborhood',\n",
       " 'Location',\n",
       " 'RowID',\n",
       " 'ResponseDelayedinMins',\n",
       " 'IncidentDate',\n",
       " 'onWatchDate',\n",
       " 'AvailableDtTs']"
      ]
     },
     "execution_count": 34,
     "metadata": {},
     "output_type": "execute_result"
    }
   ],
   "source": [
    "fire_df_ts.columns"
   ]
  },
  {
   "cell_type": "markdown",
   "id": "79a07496",
   "metadata": {},
   "source": [
    "#### Q-4) What were the most common call types?"
   ]
  },
  {
   "cell_type": "code",
   "execution_count": 48,
   "id": "b497ecf1",
   "metadata": {},
   "outputs": [
    {
     "name": "stdout",
     "output_type": "stream",
     "text": [
      "+--------------------+------+\n",
      "|            CallType| count|\n",
      "+--------------------+------+\n",
      "|    Medical Incident|113794|\n",
      "|      Structure Fire| 23319|\n",
      "|              Alarms| 19406|\n",
      "|   Traffic Collision|  7013|\n",
      "|Citizen Assist / ...|  2524|\n",
      "|               Other|  2166|\n",
      "|        Outside Fire|  2094|\n",
      "|        Vehicle Fire|   854|\n",
      "|Gas Leak (Natural...|   764|\n",
      "|        Water Rescue|   755|\n",
      "|Odor (Strange / U...|   490|\n",
      "|   Electrical Hazard|   482|\n",
      "|Elevator / Escala...|   453|\n",
      "|Smoke Investigati...|   391|\n",
      "|          Fuel Spill|   193|\n",
      "|              HazMat|   124|\n",
      "|Industrial Accidents|    94|\n",
      "|           Explosion|    89|\n",
      "|Train / Rail Inci...|    57|\n",
      "|  Aircraft Emergency|    36|\n",
      "+--------------------+------+\n",
      "only showing top 20 rows\n",
      "\n"
     ]
    }
   ],
   "source": [
    "fire_df_ts.select('CallType').groupBy('CallType').count().orderBy('count',ascending=False).show()"
   ]
  },
  {
   "cell_type": "markdown",
   "id": "45d1bd3f",
   "metadata": {},
   "source": [
    "#### Q-4a) What zip codes accounted for most common calls?"
   ]
  },
  {
   "cell_type": "markdown",
   "id": "08b06917",
   "metadata": {},
   "source": [
    "Let's investigate what zip codes in San Francisco accounted for most fire calls and what type where they.\n",
    "\n",
    "- Filter out by CallType\n",
    "- Group them by CallType and Zip code\n",
    "- Count them and display them in descending order\n",
    "- It seems like the most common calls were all related to Medical Incident, and the two zip codes are 94102 and 94103."
   ]
  },
  {
   "cell_type": "code",
   "execution_count": 53,
   "id": "5dda02b2",
   "metadata": {},
   "outputs": [
    {
     "name": "stdout",
     "output_type": "stream",
     "text": [
      "+----------------+-------+-----+\n",
      "|        CallType|Zipcode|count|\n",
      "+----------------+-------+-----+\n",
      "|Medical Incident|  94102|16130|\n",
      "|Medical Incident|  94103|14775|\n",
      "|Medical Incident|  94110| 9995|\n",
      "|Medical Incident|  94109| 9479|\n",
      "|Medical Incident|  94124| 5885|\n",
      "|Medical Incident|  94112| 5630|\n",
      "|Medical Incident|  94115| 4785|\n",
      "|Medical Incident|  94122| 4323|\n",
      "|Medical Incident|  94107| 4284|\n",
      "|Medical Incident|  94133| 3977|\n",
      "|Medical Incident|  94117| 3522|\n",
      "|Medical Incident|  94134| 3437|\n",
      "|Medical Incident|  94114| 3225|\n",
      "|Medical Incident|  94118| 3104|\n",
      "|Medical Incident|  94121| 2953|\n",
      "|Medical Incident|  94116| 2738|\n",
      "|Medical Incident|  94132| 2594|\n",
      "|  Structure Fire|  94110| 2267|\n",
      "|Medical Incident|  94105| 2258|\n",
      "|  Structure Fire|  94102| 2229|\n",
      "+----------------+-------+-----+\n",
      "only showing top 20 rows\n",
      "\n"
     ]
    }
   ],
   "source": [
    "fire_df_ts.select('CallType','Zipcode').groupBy('CallType','Zipcode').count().orderBy('count',ascending=False).show()"
   ]
  },
  {
   "cell_type": "markdown",
   "id": "388ec2d3",
   "metadata": {},
   "source": [
    "#### Q-4b) What San Francisco neighborhoods are in the zip codes 94102 and 94103"
   ]
  },
  {
   "cell_type": "code",
   "execution_count": 72,
   "id": "6e6bb3bc",
   "metadata": {},
   "outputs": [
    {
     "name": "stdout",
     "output_type": "stream",
     "text": [
      "+-------+------------------------------+\n",
      "|Zipcode|Neighborhood                  |\n",
      "+-------+------------------------------+\n",
      "|94102  |Financial District/South Beach|\n",
      "|94102  |Western Addition              |\n",
      "|94102  |Hayes Valley                  |\n",
      "|94102  |Tenderloin                    |\n",
      "|94102  |South of Market               |\n",
      "|94102  |Nob Hill                      |\n",
      "|94103  |South of Market               |\n",
      "|94103  |Castro/Upper Market           |\n",
      "|94103  |Financial District/South Beach|\n",
      "|94103  |Mission                       |\n",
      "+-------+------------------------------+\n",
      "only showing top 10 rows\n",
      "\n"
     ]
    }
   ],
   "source": [
    "fire_df_ts.select('Zipcode','Neighborhood').where( (col('Zipcode')==94102) | (col('Zipcode')==94103)).distinct().orderBy('Zipcode').show(10,False)"
   ]
  },
  {
   "cell_type": "markdown",
   "id": "551968cb",
   "metadata": {},
   "source": [
    "#### Q-5) What was the sum of all calls, average, min and max of the response times for calls?"
   ]
  },
  {
   "cell_type": "markdown",
   "id": "1e2ba916",
   "metadata": {},
   "source": [
    "Let's use the built-in Spark SQL functions to compute the sum, avg, min, and max of few columns:\n",
    "\n",
    "- Number of Total Alarms\n",
    "- What were the min and max the delay in response time before the Fire Dept arrived at the scene of the call"
   ]
  },
  {
   "cell_type": "code",
   "execution_count": 73,
   "id": "6401e80f",
   "metadata": {},
   "outputs": [
    {
     "name": "stdout",
     "output_type": "stream",
     "text": [
      "root\n",
      " |-- CallNumber: integer (nullable = true)\n",
      " |-- UnitID: string (nullable = true)\n",
      " |-- IncidentNumber: integer (nullable = true)\n",
      " |-- CallType: string (nullable = true)\n",
      " |-- CallFinalDisposition: string (nullable = true)\n",
      " |-- Address: string (nullable = true)\n",
      " |-- City: string (nullable = true)\n",
      " |-- Zipcode: integer (nullable = true)\n",
      " |-- Battalion: string (nullable = true)\n",
      " |-- StationArea: string (nullable = true)\n",
      " |-- Box: string (nullable = true)\n",
      " |-- OriginalPriority: string (nullable = true)\n",
      " |-- Priority: string (nullable = true)\n",
      " |-- FinalPriority: integer (nullable = true)\n",
      " |-- ALSUnit: boolean (nullable = true)\n",
      " |-- CallTypeGroup: string (nullable = true)\n",
      " |-- NumAlarms: integer (nullable = true)\n",
      " |-- UnitType: string (nullable = true)\n",
      " |-- UnitSequenceInCallDispatch: integer (nullable = true)\n",
      " |-- FirePreventionDistrict: string (nullable = true)\n",
      " |-- SupervisorDistrict: string (nullable = true)\n",
      " |-- Neighborhood: string (nullable = true)\n",
      " |-- Location: string (nullable = true)\n",
      " |-- RowID: string (nullable = true)\n",
      " |-- ResponseDelayedinMins: float (nullable = true)\n",
      " |-- IncidentDate: date (nullable = true)\n",
      " |-- onWatchDate: date (nullable = true)\n",
      " |-- AvailableDtTs: date (nullable = true)\n",
      "\n"
     ]
    }
   ],
   "source": [
    "fire_df_ts.printSchema()"
   ]
  },
  {
   "cell_type": "code",
   "execution_count": 87,
   "id": "f13cb07d",
   "metadata": {},
   "outputs": [
    {
     "name": "stdout",
     "output_type": "stream",
     "text": [
      "+--------------+--------------------------+--------------------------+--------------------------+\n",
      "|sum(NumAlarms)|avg(ResponseDelayedinMins)|min(ResponseDelayedinMins)|max(ResponseDelayedinMins)|\n",
      "+--------------+--------------------------+--------------------------+--------------------------+\n",
      "|        176170|         3.892364154521585|               0.016666668|                   1844.55|\n",
      "+--------------+--------------------------+--------------------------+--------------------------+\n",
      "\n"
     ]
    }
   ],
   "source": [
    "fire_df_ts.select(sum('NumAlarms'),mean('ResponseDelayedinMins'),min('ResponseDelayedinMins'),max('ResponseDelayedinMins') ).show()"
   ]
  },
  {
   "cell_type": "markdown",
   "id": "d062a63c",
   "metadata": {},
   "source": [
    "#### Q-6a) How many distinct years of data is in the CSV file?"
   ]
  },
  {
   "cell_type": "markdown",
   "id": "37c2f32d",
   "metadata": {},
   "source": [
    "We can use the year() SQL Spark function off the Timestamp column data type IncidentDate.\n",
    "\n",
    "In all, we have fire calls from years 2000-2018"
   ]
  },
  {
   "cell_type": "code",
   "execution_count": 107,
   "id": "519f5998",
   "metadata": {},
   "outputs": [
    {
     "name": "stdout",
     "output_type": "stream",
     "text": [
      "+------------------+\n",
      "|year(IncidentDate)|\n",
      "+------------------+\n",
      "|              2000|\n",
      "|              2001|\n",
      "|              2002|\n",
      "|              2003|\n",
      "|              2004|\n",
      "|              2005|\n",
      "|              2006|\n",
      "|              2007|\n",
      "|              2008|\n",
      "|              2009|\n",
      "|              2010|\n",
      "|              2011|\n",
      "|              2012|\n",
      "|              2013|\n",
      "|              2014|\n",
      "|              2015|\n",
      "|              2016|\n",
      "|              2017|\n",
      "|              2018|\n",
      "+------------------+\n",
      "\n"
     ]
    }
   ],
   "source": [
    "fire_df_ts.select(year('IncidentDate')).distinct().orderBy(year('IncidentDate')).show()"
   ]
  },
  {
   "cell_type": "code",
   "execution_count": 102,
   "id": "6020194f",
   "metadata": {},
   "outputs": [
    {
     "data": {
      "text/plain": [
       "19"
      ]
     },
     "execution_count": 102,
     "metadata": {},
     "output_type": "execute_result"
    }
   ],
   "source": [
    "fire_df_ts.select(year('IncidentDate')).distinct().count()"
   ]
  },
  {
   "cell_type": "markdown",
   "id": "7560ce8a",
   "metadata": {},
   "source": [
    "#### Q-6b) What week of the year in 2018 had the most fire calls?"
   ]
  },
  {
   "cell_type": "markdown",
   "id": "387969b4",
   "metadata": {},
   "source": [
    "Note: Week 1 is the New Years' week and week 25 is the July 4 the week. Loads of fireworks, so it makes sense the higher number of calls."
   ]
  },
  {
   "cell_type": "code",
   "execution_count": 127,
   "id": "57916cca",
   "metadata": {},
   "outputs": [
    {
     "name": "stdout",
     "output_type": "stream",
     "text": [
      "+------------------------+-----+\n",
      "|weekofyear(IncidentDate)|count|\n",
      "+------------------------+-----+\n",
      "|                      22|  259|\n",
      "|                      40|  255|\n",
      "|                      43|  250|\n",
      "|                      25|  249|\n",
      "|                       1|  246|\n",
      "|                      44|  244|\n",
      "|                      13|  243|\n",
      "|                      32|  243|\n",
      "|                      11|  240|\n",
      "|                       5|  236|\n",
      "|                      18|  236|\n",
      "|                      23|  235|\n",
      "|                      31|  234|\n",
      "|                       2|  234|\n",
      "|                      42|  234|\n",
      "|                      19|  233|\n",
      "|                      34|  232|\n",
      "|                       8|  232|\n",
      "|                      10|  232|\n",
      "|                      21|  231|\n",
      "+------------------------+-----+\n",
      "only showing top 20 rows\n",
      "\n"
     ]
    }
   ],
   "source": [
    "fire_df_ts.filter(year('IncidentDate')==2018).groupBy(weekofyear('IncidentDate')).count().orderBy('count',ascending=False).show()\n"
   ]
  },
  {
   "cell_type": "markdown",
   "id": "a4cdf1b2",
   "metadata": {},
   "source": [
    "#### Q-7) What neighborhoods in San Francisco had the worst response time in 2018?"
   ]
  },
  {
   "cell_type": "code",
   "execution_count": 138,
   "id": "d31648ee",
   "metadata": {},
   "outputs": [
    {
     "name": "stdout",
     "output_type": "stream",
     "text": [
      "+---------------------+--------------------------+\n",
      "|Neighborhood         |avg(ResponseDelayedinMins)|\n",
      "+---------------------+--------------------------+\n",
      "|Chinatown            |6.190314101143033         |\n",
      "|Presidio             |5.829227011272873         |\n",
      "|Treasure Island      |5.453703684111436         |\n",
      "|McLaren Park         |4.74404764175415          |\n",
      "|Bayview Hunters Point|4.620561962212182         |\n",
      "+---------------------+--------------------------+\n",
      "only showing top 5 rows\n",
      "\n"
     ]
    }
   ],
   "source": [
    "fire_df_ts.filter(year('IncidentDate')==2018).groupBy('Neighborhood').mean('ResponseDelayedinMins').orderBy(mean('ResponseDelayedinMins'),ascending=False).show(5,False)"
   ]
  },
  {
   "cell_type": "markdown",
   "id": "cdd72da0",
   "metadata": {},
   "source": [
    "#### Q-8a) How can we use Parquet files or SQL table to store data and read it back?"
   ]
  },
  {
   "cell_type": "code",
   "execution_count": 139,
   "id": "39b948a1",
   "metadata": {},
   "outputs": [
    {
     "name": "stderr",
     "output_type": "stream",
     "text": [
      "22/08/12 18:08:23 WARN MemoryManager: Total allocation exceeds 95.00% (906,992,014 bytes) of heap memory\n",
      "Scaling row group sizes to 96.54% for 7 writers\n",
      "22/08/12 18:08:23 WARN MemoryManager: Total allocation exceeds 95.00% (906,992,014 bytes) of heap memory\n",
      "Scaling row group sizes to 84.47% for 8 writers\n",
      "22/08/12 18:08:24 WARN MemoryManager: Total allocation exceeds 95.00% (906,992,014 bytes) of heap memory\n",
      "Scaling row group sizes to 96.54% for 7 writers\n",
      "                                                                                \r"
     ]
    }
   ],
   "source": [
    "fire_df_ts.write.format('parquet').mode('overwrite').save('/home/karthik/Practice_Folder/SF_FireCall_parquet')"
   ]
  },
  {
   "cell_type": "code",
   "execution_count": 142,
   "id": "c4dfe763",
   "metadata": {},
   "outputs": [
    {
     "name": "stdout",
     "output_type": "stream",
     "text": [
      "ls: cannot access '%': No such file or directory\r\n",
      "/home/karthik/Practice_Folder/SF_FireCall_parquet/:\r\n",
      "total 7636\r\n",
      "-rw-r--r-- 1 karthik karthik  374745 Aug 12 18:08 part-00007-6e1e1155-0f9d-49ea-aa0b-9f2581b6a94e-c000.snappy.parquet\r\n",
      "-rw-r--r-- 1 karthik karthik 1126117 Aug 12 18:08 part-00006-6e1e1155-0f9d-49ea-aa0b-9f2581b6a94e-c000.snappy.parquet\r\n",
      "-rw-r--r-- 1 karthik karthik 1080804 Aug 12 18:08 part-00005-6e1e1155-0f9d-49ea-aa0b-9f2581b6a94e-c000.snappy.parquet\r\n",
      "-rw-r--r-- 1 karthik karthik 1048302 Aug 12 18:08 part-00004-6e1e1155-0f9d-49ea-aa0b-9f2581b6a94e-c000.snappy.parquet\r\n",
      "-rw-r--r-- 1 karthik karthik 1027870 Aug 12 18:08 part-00003-6e1e1155-0f9d-49ea-aa0b-9f2581b6a94e-c000.snappy.parquet\r\n",
      "-rw-r--r-- 1 karthik karthik 1004522 Aug 12 18:08 part-00002-6e1e1155-0f9d-49ea-aa0b-9f2581b6a94e-c000.snappy.parquet\r\n",
      "-rw-r--r-- 1 karthik karthik 1064782 Aug 12 18:08 part-00001-6e1e1155-0f9d-49ea-aa0b-9f2581b6a94e-c000.snappy.parquet\r\n",
      "-rw-r--r-- 1 karthik karthik 1082808 Aug 12 18:08 part-00000-6e1e1155-0f9d-49ea-aa0b-9f2581b6a94e-c000.snappy.parquet\r\n",
      "-rw-r--r-- 1 karthik karthik       0 Aug 12 18:08 _SUCCESS\r\n"
     ]
    }
   ],
   "source": [
    "%ls -ltr '/home/karthik/Practice_Folder/SF_FireCall_parquet/' %"
   ]
  },
  {
   "cell_type": "code",
   "execution_count": 143,
   "id": "75a64635",
   "metadata": {},
   "outputs": [
    {
     "name": "stderr",
     "output_type": "stream",
     "text": [
      "22/08/12 19:10:42 WARN MemoryManager: Total allocation exceeds 95.00% (906,992,014 bytes) of heap memory\n",
      "Scaling row group sizes to 96.54% for 7 writers\n",
      "22/08/12 19:10:42 WARN MemoryManager: Total allocation exceeds 95.00% (906,992,014 bytes) of heap memory\n",
      "Scaling row group sizes to 84.47% for 8 writers\n",
      "22/08/12 19:10:43 WARN MemoryManager: Total allocation exceeds 95.00% (906,992,014 bytes) of heap memory\n",
      "Scaling row group sizes to 96.54% for 7 writers\n",
      "                                                                                \r"
     ]
    }
   ],
   "source": [
    "fire_df_ts.write.format('parquet').mode('overwrite').saveAsTable('fire_calls1')"
   ]
  },
  {
   "cell_type": "code",
   "execution_count": 146,
   "id": "38640a60",
   "metadata": {},
   "outputs": [
    {
     "name": "stderr",
     "output_type": "stream",
     "text": [
      "                                                                                \r"
     ]
    },
    {
     "data": {
      "text/plain": [
       "DataFrame[]"
      ]
     },
     "execution_count": 146,
     "metadata": {},
     "output_type": "execute_result"
    }
   ],
   "source": [
    "spark.sql(\"\"\"CACHE TABLE fire_calls1\"\"\")"
   ]
  },
  {
   "cell_type": "code",
   "execution_count": 147,
   "id": "9df0c421",
   "metadata": {},
   "outputs": [
    {
     "name": "stdout",
     "output_type": "stream",
     "text": [
      "+----------+------+--------------+-----------------+--------------------+--------------------+----+-------+---------+-----------+----+----------------+--------+-------------+-------+-------------+---------+--------+--------------------------+----------------------+------------------+--------------------+--------------------+--------------+---------------------+------------+-----------+-------------+\n",
      "|CallNumber|UnitID|IncidentNumber|         CallType|CallFinalDisposition|             Address|City|Zipcode|Battalion|StationArea| Box|OriginalPriority|Priority|FinalPriority|ALSUnit|CallTypeGroup|NumAlarms|UnitType|UnitSequenceInCallDispatch|FirePreventionDistrict|SupervisorDistrict|        Neighborhood|            Location|         RowID|ResponseDelayedinMins|IncidentDate|onWatchDate|AvailableDtTs|\n",
      "+----------+------+--------------+-----------------+--------------------+--------------------+----+-------+---------+-----------+----+----------------+--------+-------------+-------+-------------+---------+--------+--------------------------+----------------------+------------------+--------------------+--------------------+--------------+---------------------+------------+-----------+-------------+\n",
      "| 110660238|    60|      11021821| Medical Incident|                Fire|0 Block of BORICA ST|  SF|  94127|      B09|         19|8442|               3|       2|            2|   true|         null|        1|   MEDIC|                         1|                     9|                 7|  West of Twin Peaks|(37.7225922041408...|  110660238-60|                  2.9|  2011-03-07| 2011-03-07|   2011-03-07|\n",
      "| 110660253|   B03|      11021831|           Alarms|                Fire|1000 Block of HOW...|  SF|  94103|      B03|         01|2252|               3|       3|            3|  false|         null|        1|   CHIEF|                         3|                     3|                 6|     South of Market|(37.7795675906982...| 110660253-B03|            2.3833334|  2011-03-07| 2011-03-07|   2011-03-07|\n",
      "| 110660282|   E43|      11021856| Medical Incident|               Other| PERSIA AV/MADRID ST|  SF|  94112|      B09|         43|6134|               3|       3|            3|   true|         null|        1|  ENGINE|                         1|                     9|                11|           Excelsior|(37.7216187707613...| 110660282-E43|                 1.65|  2011-03-07| 2011-03-07|   2011-03-07|\n",
      "| 110660322|    94|      11021888| Medical Incident|               Other|1100 Block of HOW...|  SF|  94103|      B03|         01|2314|               3|       3|            3|   true|         null|        1|   MEDIC|                         3|                     2|                 6|     South of Market|(37.7768521020734...|  110660322-94|            1.5666667|  2011-03-07| 2011-03-07|   2011-03-07|\n",
      "| 110670051|   B09|      11021963|           Alarms|                Fire|5800 Block of MIS...|  SF|  94112|      B09|         33|6213|               3|       3|            3|  false|         null|        1|   CHIEF|                         3|                     9|                11|       Outer Mission|(37.709160030699,...| 110670051-B09|                  2.8|  2011-03-08| 2011-03-07|   2011-03-08|\n",
      "| 110670076|   B06|      11021980|           Alarms|                Fire|3600 Block of 20T...|  SF|  94110|      B06|         07|5445|               3|       3|            3|  false|         null|        1|   CHIEF|                         2|                     6|                 8|             Mission|(37.7584863037287...| 110670076-B06|                  2.5|  2011-03-08| 2011-03-08|   2011-03-08|\n",
      "| 110670077|   E44|      11021981|           Alarms|               Other|1700 Block of VIS...|  SF|  94134|      B09|         44|6263|               3|       3|            3|   true|         null|        1|  ENGINE|                         1|                     9|                10|        McLaren Park|(37.7162666820869...| 110670077-E44|            1.6166667|  2011-03-08| 2011-03-08|   2011-03-08|\n",
      "| 110670082|    92|      11021988| Medical Incident|    Code 2 Transport|100 Block of GOLD...|  SF|  94102|      B02|         01|1546|               1|       1|            2|   true|         null|        1|   MEDIC|                         2|                     2|                 6|          Tenderloin|(37.7820224371777...|  110670082-92|            13.416667|  2011-03-08| 2011-03-08|   2011-03-08|\n",
      "| 110670089|   E01|      11021993| Medical Incident|               Other|200 Block of EDDY ST|  SF|  94102|      B03|         01|1453|               3|       3|            3|   true|         null|        1|  ENGINE|                         1|                     3|                 6|          Tenderloin|(37.7840910361755...| 110670089-E01|                 3.55|  2011-03-08| 2011-03-08|   2011-03-08|\n",
      "| 110670101|    84|      11021998| Medical Incident|    Code 2 Transport|CALL BOX: SAN JOS...|  SF|  94112|      B09|         15|8276|               2|       2|            2|   true|         null|        1|   MEDIC|                         1|                     9|                11|       Outer Mission|(37.7258249736518...|  110670101-84|                 4.55|  2011-03-08| 2011-03-08|   2011-03-08|\n",
      "| 110670122|  AM06|      11022013| Medical Incident|    Unable to Locate|1100 Block of MAR...|  SF|  94103|      B02|         01|2316|               1|       1|            2|  false|         null|        1| PRIVATE|                         1|                     2|                 6|     South of Market|(37.7795310846627...|110670122-AM06|                  5.9|  2011-03-08| 2011-03-08|   2011-03-08|\n",
      "| 110670124|   E44|      11022015|   Structure Fire|               Other|400 Block of BURR...|  SF|  94134|      B10|         42|0633|               3|       3|            3|   true|         null|        1|  ENGINE|                         1|                    10|                 9|             Portola|(37.7278769871167...| 110670124-E44|                  0.7|  2011-03-08| 2011-03-08|   2011-03-08|\n",
      "| 110670144|    64|      11022031| Medical Incident|    Code 2 Transport|STOCKTON ST/PACIF...|  SF|  94133|      B01|         02|1332|               2|       2|            2|   true|         null|        1|   MEDIC|                         1|                     1|                 3|           Chinatown|(37.7967039027671...|  110670144-64|            6.4333334|  2011-03-08| 2011-03-08|   2011-03-08|\n",
      "| 110670145|   E34|      11022033|Traffic Collision|               Other|CALIFORNIA ST/12T...|  SF|  94118|      B07|         31|7147|               3|       3|            3|  false|         null|        1|  ENGINE|                         6|                     7|                 1|      Inner Richmond|(37.7845244780935...| 110670145-E34|            3.3166666|  2011-03-08| 2011-03-08|   2011-03-08|\n",
      "| 110670156|    89|      11022042| Medical Incident|            No Merit|100 Block of TURK ST|  SF|  94102|      B03|         01|1456|               1|       1|            2|   true|         null|        1|   MEDIC|                         1|                     3|                 6|          Tenderloin|(37.783163427134,...|  110670156-89|             5.483333|  2011-03-08| 2011-03-08|   2011-03-08|\n",
      "| 110670162|   E17|      11022047| Medical Incident|               Other|200 Block of WILL...|  SF|  94124|      B10|         42|6474|               3|       3|            3|   true|         null|        1|  ENGINE|                         1|                    10|                10|Bayview Hunters P...|(37.7299346936044...| 110670162-E17|            2.4166667|  2011-03-08| 2011-03-08|   2011-03-08|\n",
      "| 110670166|    54|      11022051| Medical Incident|    Code 2 Transport|3900 Block of 19T...|  SF|  94114|      B06|         06|5436|               3|       3|            3|   true|         null|        1|   MEDIC|                         2|                     6|                 8| Castro/Upper Market|(37.7595451487512...|  110670166-54|            2.3666666|  2011-03-08| 2011-03-08|   2011-03-08|\n",
      "| 110670195|   E22|      11022073| Medical Incident|               Other|1200 Block of 12T...|  SF|  94122|      B08|         22|7346|               3|       3|            3|   true|         null|        1|  ENGINE|                         1|                     7|                 5|        Inner Sunset|(37.7648362657127...| 110670195-E22|             4.133333|  2011-03-08| 2011-03-08|   2011-03-08|\n",
      "| 110670201|   T11|      11022078|           Alarms|               Other|3600 Block of 20T...|  SF|  94110|      B06|         07|5445|               3|       3|            3|  false|         null|        1|   TRUCK|                         3|                     6|                 8|             Mission|(37.7584863037287...| 110670201-T11|             4.233333|  2011-03-08| 2011-03-08|   2011-03-08|\n",
      "| 110670235|   T14|      11022105| Medical Incident|               Other|500 Block of 27TH...|  SF|  94121|      B07|         14|7222|               3|       3|            3|  false|         null|        1|   TRUCK|                         1|                     7|                 1|      Outer Richmond|(37.7790279638161...| 110670235-T14|                  2.8|  2011-03-08| 2011-03-08|   2011-03-08|\n",
      "+----------+------+--------------+-----------------+--------------------+--------------------+----+-------+---------+-----------+----+----------------+--------+-------------+-------+-------------+---------+--------+--------------------------+----------------------+------------------+--------------------+--------------------+--------------+---------------------+------------+-----------+-------------+\n",
      "only showing top 20 rows\n",
      "\n"
     ]
    }
   ],
   "source": [
    "spark.sql(\"\"\"SELECT * FROM fire_calls1\"\"\").show()"
   ]
  },
  {
   "cell_type": "markdown",
   "id": "ba3b4c38",
   "metadata": {},
   "source": [
    "#### Q-8c) How to read data from Parquet file?"
   ]
  },
  {
   "cell_type": "code",
   "execution_count": 152,
   "id": "fe17eadb",
   "metadata": {},
   "outputs": [],
   "source": [
    "fire_parq_df=spark.read.format('parquet').load('/home/karthik/Practice_Folder/SF_FireCall_parquet/')"
   ]
  },
  {
   "cell_type": "code",
   "execution_count": 150,
   "id": "ee5c9352",
   "metadata": {},
   "outputs": [
    {
     "name": "stdout",
     "output_type": "stream",
     "text": [
      "ls: cannot access '%': No such file or directory\r\n",
      "/home/karthik/Practice_Folder/SF_FireCall_parquet/:\r\n",
      "total 7636\r\n",
      "-rw-r--r-- 1 karthik karthik  374745 Aug 12 18:08 part-00007-6e1e1155-0f9d-49ea-aa0b-9f2581b6a94e-c000.snappy.parquet\r\n",
      "-rw-r--r-- 1 karthik karthik 1126117 Aug 12 18:08 part-00006-6e1e1155-0f9d-49ea-aa0b-9f2581b6a94e-c000.snappy.parquet\r\n",
      "-rw-r--r-- 1 karthik karthik 1080804 Aug 12 18:08 part-00005-6e1e1155-0f9d-49ea-aa0b-9f2581b6a94e-c000.snappy.parquet\r\n",
      "-rw-r--r-- 1 karthik karthik 1048302 Aug 12 18:08 part-00004-6e1e1155-0f9d-49ea-aa0b-9f2581b6a94e-c000.snappy.parquet\r\n",
      "-rw-r--r-- 1 karthik karthik 1027870 Aug 12 18:08 part-00003-6e1e1155-0f9d-49ea-aa0b-9f2581b6a94e-c000.snappy.parquet\r\n",
      "-rw-r--r-- 1 karthik karthik 1004522 Aug 12 18:08 part-00002-6e1e1155-0f9d-49ea-aa0b-9f2581b6a94e-c000.snappy.parquet\r\n",
      "-rw-r--r-- 1 karthik karthik 1064782 Aug 12 18:08 part-00001-6e1e1155-0f9d-49ea-aa0b-9f2581b6a94e-c000.snappy.parquet\r\n",
      "-rw-r--r-- 1 karthik karthik 1082808 Aug 12 18:08 part-00000-6e1e1155-0f9d-49ea-aa0b-9f2581b6a94e-c000.snappy.parquet\r\n",
      "-rw-r--r-- 1 karthik karthik       0 Aug 12 18:08 _SUCCESS\r\n"
     ]
    }
   ],
   "source": [
    "%ls -ltr '/home/karthik/Practice_Folder/SF_FireCall_parquet/' %"
   ]
  },
  {
   "cell_type": "code",
   "execution_count": 154,
   "id": "ab5e5ee3",
   "metadata": {},
   "outputs": [
    {
     "name": "stdout",
     "output_type": "stream",
     "text": [
      "+----------+------+--------------+----------------+--------------------+--------------------+----+-------+---------+-----------+----+----------------+--------+-------------+-------+-------------+---------+--------+--------------------------+----------------------+------------------+------------------+--------------------+-------------+---------------------+------------+-----------+-------------+\n",
      "|CallNumber|UnitID|IncidentNumber|        CallType|CallFinalDisposition|             Address|City|Zipcode|Battalion|StationArea| Box|OriginalPriority|Priority|FinalPriority|ALSUnit|CallTypeGroup|NumAlarms|UnitType|UnitSequenceInCallDispatch|FirePreventionDistrict|SupervisorDistrict|      Neighborhood|            Location|        RowID|ResponseDelayedinMins|IncidentDate|onWatchDate|AvailableDtTs|\n",
      "+----------+------+--------------+----------------+--------------------+--------------------+----+-------+---------+-----------+----+----------------+--------+-------------+-------+-------------+---------+--------+--------------------------+----------------------+------------------+------------------+--------------------+-------------+---------------------+------------+-----------+-------------+\n",
      "| 110660238|    60|      11021821|Medical Incident|                Fire|0 Block of BORICA ST|  SF|  94127|      B09|         19|8442|               3|       2|            2|   true|         null|        1|   MEDIC|                         1|                     9|                 7|West of Twin Peaks|(37.7225922041408...| 110660238-60|                  2.9|  2011-03-07| 2011-03-07|   2011-03-07|\n",
      "| 110660253|   B03|      11021831|          Alarms|                Fire|1000 Block of HOW...|  SF|  94103|      B03|         01|2252|               3|       3|            3|  false|         null|        1|   CHIEF|                         3|                     3|                 6|   South of Market|(37.7795675906982...|110660253-B03|            2.3833334|  2011-03-07| 2011-03-07|   2011-03-07|\n",
      "| 110660282|   E43|      11021856|Medical Incident|               Other| PERSIA AV/MADRID ST|  SF|  94112|      B09|         43|6134|               3|       3|            3|   true|         null|        1|  ENGINE|                         1|                     9|                11|         Excelsior|(37.7216187707613...|110660282-E43|                 1.65|  2011-03-07| 2011-03-07|   2011-03-07|\n",
      "| 110660322|    94|      11021888|Medical Incident|               Other|1100 Block of HOW...|  SF|  94103|      B03|         01|2314|               3|       3|            3|   true|         null|        1|   MEDIC|                         3|                     2|                 6|   South of Market|(37.7768521020734...| 110660322-94|            1.5666667|  2011-03-07| 2011-03-07|   2011-03-07|\n",
      "| 110670051|   B09|      11021963|          Alarms|                Fire|5800 Block of MIS...|  SF|  94112|      B09|         33|6213|               3|       3|            3|  false|         null|        1|   CHIEF|                         3|                     9|                11|     Outer Mission|(37.709160030699,...|110670051-B09|                  2.8|  2011-03-08| 2011-03-07|   2011-03-08|\n",
      "+----------+------+--------------+----------------+--------------------+--------------------+----+-------+---------+-----------+----+----------------+--------+-------------+-------+-------------+---------+--------+--------------------------+----------------------+------------------+------------------+--------------------+-------------+---------------------+------------+-----------+-------------+\n",
      "only showing top 5 rows\n",
      "\n"
     ]
    }
   ],
   "source": [
    "fire_parq_df.show(5)"
   ]
  },
  {
   "cell_type": "code",
   "execution_count": 155,
   "id": "a3369868",
   "metadata": {},
   "outputs": [],
   "source": [
    "spark.stop()"
   ]
  },
  {
   "cell_type": "code",
   "execution_count": null,
   "id": "b0b294ef",
   "metadata": {},
   "outputs": [],
   "source": []
  }
 ],
 "metadata": {
  "kernelspec": {
   "display_name": "Python 3 (ipykernel)",
   "language": "python",
   "name": "python3"
  },
  "language_info": {
   "codemirror_mode": {
    "name": "ipython",
    "version": 3
   },
   "file_extension": ".py",
   "mimetype": "text/x-python",
   "name": "python",
   "nbconvert_exporter": "python",
   "pygments_lexer": "ipython3",
   "version": "3.8.10"
  }
 },
 "nbformat": 4,
 "nbformat_minor": 5
}
